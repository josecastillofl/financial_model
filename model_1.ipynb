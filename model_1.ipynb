{
 "cells": [
  {
   "cell_type": "markdown",
   "id": "4859f300",
   "metadata": {
    "tags": []
   },
   "source": [
    "# Financial Model\n",
    "\n",
    "Downloading Numpy for finance"
   ]
  },
  {
   "cell_type": "code",
   "execution_count": 3,
   "id": "e43e2aa5",
   "metadata": {},
   "outputs": [
    {
     "name": "stdout",
     "output_type": "stream",
     "text": [
      "Collecting numpy-financial\n",
      "  Downloading numpy_financial-1.0.0-py3-none-any.whl (14 kB)\n",
      "Requirement already satisfied: numpy>=1.15 in c:\\users\\josec\\anaconda3\\lib\\site-packages (from numpy-financial) (1.24.3)\n",
      "Installing collected packages: numpy-financial\n",
      "Successfully installed numpy-financial-1.0.0\n",
      "Note: you may need to restart the kernel to use updated packages.\n"
     ]
    }
   ],
   "source": [
    "### pip install numpy-financial"
   ]
  },
  {
   "cell_type": "code",
   "execution_count": 9,
   "id": "bb066d08-dd4f-4991-b6c0-1965251c4184",
   "metadata": {
    "scrolled": false
   },
   "outputs": [],
   "source": [
    "import numpy_financial as npf"
   ]
  },
  {
   "cell_type": "markdown",
   "id": "8883bbd9-9b13-44e0-a6ba-7035f9f6a566",
   "metadata": {},
   "source": [
    "###  INPUT"
   ]
  },
  {
   "cell_type": "code",
   "execution_count": 11,
   "id": "86f20526-94c3-49f4-bd7f-62c102e8a483",
   "metadata": {},
   "outputs": [],
   "source": [
    "salary = 60000\n",
    "saving_rate = 0.25\n",
    "investment_rate = 0.05\n",
    "desired_cash = 1500000"
   ]
  },
  {
   "cell_type": "markdown",
   "id": "8666b000-742b-4def-9056-95549aebe797",
   "metadata": {},
   "source": [
    "### Determining Cash Saved"
   ]
  },
  {
   "cell_type": "code",
   "execution_count": 12,
   "id": "09eed491-66c5-45a8-baef-868a4bd861a0",
   "metadata": {},
   "outputs": [
    {
     "data": {
      "text/plain": [
       "15000.0"
      ]
     },
     "execution_count": 12,
     "metadata": {},
     "output_type": "execute_result"
    }
   ],
   "source": [
    "annual_cash = salary * saving_rate\n",
    "annual_cash"
   ]
  },
  {
   "cell_type": "markdown",
   "id": "67836127-70a0-4f9e-ab8c-2bda77d4c0a3",
   "metadata": {},
   "source": [
    "### Years to Retire"
   ]
  },
  {
   "cell_type": "code",
   "execution_count": 13,
   "id": "4dda29dd-ab3e-41cc-ba51-71f329dda026",
   "metadata": {},
   "outputs": [],
   "source": [
    "years_to_retirement = npf.nper(investment_rate, -annual_cash, 0, desired_cash, when='end')"
   ]
  },
  {
   "cell_type": "code",
   "execution_count": 15,
   "id": "eeaec6c8",
   "metadata": {},
   "outputs": [
    {
     "name": "stdout",
     "output_type": "stream",
     "text": [
      "Person X has  36.7 years to retirement\n"
     ]
    }
   ],
   "source": [
    "print(f'Person X has {years_to_retirement: .1f} years to retirement')"
   ]
  },
  {
   "cell_type": "markdown",
   "id": "e09aeaef",
   "metadata": {},
   "source": [
    "### Multiple Interest Rates"
   ]
  },
  {
   "cell_type": "code",
   "execution_count": 16,
   "id": "d871da8a",
   "metadata": {},
   "outputs": [],
   "source": [
    "investment_rates = [0.05, 0.06, 0.07]"
   ]
  },
  {
   "cell_type": "code",
   "execution_count": 17,
   "id": "e9d5a81f",
   "metadata": {},
   "outputs": [
    {
     "name": "stdout",
     "output_type": "stream",
     "text": [
      "Person X has  36.7 years to retirement\n",
      "Person X has  33.4 years to retirement\n",
      "Person X has  30.7 years to retirement\n"
     ]
    }
   ],
   "source": [
    "for i in investment_rates:\n",
    "    years_to_retirement = npf.nper(rate = i, pmt = -annual_cash, pv = 0, fv = desired_cash, when='end')\n",
    "    print(f'Person X has {years_to_retirement: .1f} years to retirement')"
   ]
  }
 ],
 "metadata": {
  "kernelspec": {
   "display_name": "Python 3 (ipykernel)",
   "language": "python",
   "name": "python3"
  },
  "language_info": {
   "codemirror_mode": {
    "name": "ipython",
    "version": 3
   },
   "file_extension": ".py",
   "mimetype": "text/x-python",
   "name": "python",
   "nbconvert_exporter": "python",
   "pygments_lexer": "ipython3",
   "version": "3.11.3"
  }
 },
 "nbformat": 4,
 "nbformat_minor": 5
}
