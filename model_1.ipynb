{
 "cells": [
  {
   "cell_type": "markdown",
   "id": "4859f300",
   "metadata": {
    "tags": []
   },
   "source": [
    "# Financial Model\n",
    "\n",
    "Downloading Numpy for finance"
   ]
  },
  {
   "cell_type": "code",
   "execution_count": 15,
   "id": "c3f4f0ea-ca3f-48b5-9eba-7627efe3261e",
   "metadata": {},
   "outputs": [
    {
     "name": "stdout",
     "output_type": "stream",
     "text": [
      "Collecting numpy-financial\n",
      "  Downloading numpy_financial-1.0.0-py3-none-any.whl (14 kB)\n",
      "Requirement already satisfied: numpy>=1.15 in c:\\users\\josec\\anaconda3\\lib\\site-packages (from numpy-financial) (1.21.5)\n",
      "Installing collected packages: numpy-financial\n",
      "Successfully installed numpy-financial-1.0.0\n",
      "Note: you may need to restart the kernel to use updated packages.\n"
     ]
    }
   ],
   "source": [
    "  pip install numpy-financial"
   ]
  },
  {
   "cell_type": "code",
   "execution_count": 16,
   "id": "bb066d08-dd4f-4991-b6c0-1965251c4184",
   "metadata": {},
   "outputs": [],
   "source": [
    "import numpy_financial as npf"
   ]
  },
  {
   "cell_type": "markdown",
   "id": "8883bbd9-9b13-44e0-a6ba-7035f9f6a566",
   "metadata": {},
   "source": [
    "###  INPUT"
   ]
  },
  {
   "cell_type": "code",
   "execution_count": 8,
   "id": "86f20526-94c3-49f4-bd7f-62c102e8a483",
   "metadata": {},
   "outputs": [],
   "source": [
    "salary = 60000\n",
    "saving_rate = 0.25\n",
    "investment_rate = 0.05\n",
    "desired_cash = 1500000"
   ]
  },
  {
   "cell_type": "markdown",
   "id": "8666b000-742b-4def-9056-95549aebe797",
   "metadata": {},
   "source": [
    "### Determining Cash Saved"
   ]
  },
  {
   "cell_type": "code",
   "execution_count": 11,
   "id": "09eed491-66c5-45a8-baef-868a4bd861a0",
   "metadata": {},
   "outputs": [
    {
     "data": {
      "text/plain": [
       "15000.0"
      ]
     },
     "execution_count": 11,
     "metadata": {},
     "output_type": "execute_result"
    }
   ],
   "source": [
    "annual_cash = salary * saving_rate\n",
    "annual_cash"
   ]
  },
  {
   "cell_type": "markdown",
   "id": "67836127-70a0-4f9e-ab8c-2bda77d4c0a3",
   "metadata": {},
   "source": [
    "### Years to Retire"
   ]
  },
  {
   "cell_type": "code",
   "execution_count": 20,
   "id": "4dda29dd-ab3e-41cc-ba51-71f329dda026",
   "metadata": {},
   "outputs": [
    {
     "data": {
      "text/plain": [
       "array(36.72378439)"
      ]
     },
     "execution_count": 20,
     "metadata": {},
     "output_type": "execute_result"
    }
   ],
   "source": [
    "npf.nper(investment_rate, -annual_cash, 0, desired_cash, when='end')"
   ]
  }
 ],
 "metadata": {
  "kernelspec": {
   "display_name": "Python 3 (ipykernel)",
   "language": "python",
   "name": "python3"
  },
  "language_info": {
   "codemirror_mode": {
    "name": "ipython",
    "version": 3
   },
   "file_extension": ".py",
   "mimetype": "text/x-python",
   "name": "python",
   "nbconvert_exporter": "python",
   "pygments_lexer": "ipython3",
   "version": "3.9.13"
  }
 },
 "nbformat": 4,
 "nbformat_minor": 5
}
