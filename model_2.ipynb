{
 "cells": [
  {
   "cell_type": "markdown",
   "id": "8e08948c",
   "metadata": {},
   "source": [
    "# Financial Model"
   ]
  },
  {
   "cell_type": "code",
   "execution_count": 5,
   "id": "dc40b251",
   "metadata": {},
   "outputs": [],
   "source": [
    "import numpy_financial as npf\n",
    "import numpy as np"
   ]
  },
  {
   "cell_type": "markdown",
   "id": "00266147",
   "metadata": {},
   "source": [
    "---"
   ]
  },
  {
   "cell_type": "code",
   "execution_count": 6,
   "id": "870725f7",
   "metadata": {},
   "outputs": [],
   "source": [
    "pv = 0\n",
    "fv = np.nan\n",
    "interest_rate = [0.04, 0.05, 0.06]\n",
    "savings_rate = [0.1, 0.25, 0.40]"
   ]
  },
  {
   "cell_type": "code",
   "execution_count": 7,
   "id": "4207d71d",
   "metadata": {},
   "outputs": [],
   "source": [
    "for i in savings_rate:\n",
    "    for x in interest_rate:\n",
    "        years_to_retire = npf.nper(x, -)"
   ]
  },
  {
   "cell_type": "code",
   "execution_count": null,
   "id": "f1b8d7a7",
   "metadata": {},
   "outputs": [],
   "source": []
  }
 ],
 "metadata": {
  "kernelspec": {
   "display_name": "Python 3 (ipykernel)",
   "language": "python",
   "name": "python3"
  },
  "language_info": {
   "codemirror_mode": {
    "name": "ipython",
    "version": 3
   },
   "file_extension": ".py",
   "mimetype": "text/x-python",
   "name": "python",
   "nbconvert_exporter": "python",
   "pygments_lexer": "ipython3",
   "version": "3.9.13"
  }
 },
 "nbformat": 4,
 "nbformat_minor": 5
}
