{
 "cells": [
  {
   "cell_type": "markdown",
   "id": "8e08948c",
   "metadata": {},
   "source": [
    "# Financial Model"
   ]
  },
  {
   "cell_type": "code",
   "execution_count": 1,
   "id": "dc40b251",
   "metadata": {},
   "outputs": [],
   "source": [
    "import numpy_financial as npf\n",
    "import numpy as np"
   ]
  },
  {
   "cell_type": "markdown",
   "id": "00266147",
   "metadata": {},
   "source": [
    "---"
   ]
  },
  {
   "cell_type": "code",
   "execution_count": 2,
   "id": "870725f7",
   "metadata": {},
   "outputs": [],
   "source": [
    "pv = 0\n",
    "fv = np.nan\n",
    "interest_rate = [0.04, 0.05, 0.06]\n",
    "savings_rate = [0.1, 0.25, 0.40]"
   ]
  },
  {
   "cell_type": "code",
   "execution_count": 3,
   "id": "4207d71d",
   "metadata": {},
   "outputs": [
    {
     "ename": "SyntaxError",
     "evalue": "invalid syntax (1320848303.py, line 3)",
     "output_type": "error",
     "traceback": [
      "\u001b[1;36m  File \u001b[1;32m\"C:\\Users\\josec\\AppData\\Local\\Temp\\ipykernel_16564\\1320848303.py\"\u001b[1;36m, line \u001b[1;32m3\u001b[0m\n\u001b[1;33m    years_to_retire = npf.nper(x, -)\u001b[0m\n\u001b[1;37m                                   ^\u001b[0m\n\u001b[1;31mSyntaxError\u001b[0m\u001b[1;31m:\u001b[0m invalid syntax\n"
     ]
    }
   ],
   "source": [
    "for i in savings_rate:\n",
    "    for x in interest_rate:\n",
    "        years_to_retire = npf.nper(x, -)"
   ]
  },
  {
   "cell_type": "code",
   "execution_count": null,
   "id": "f1b8d7a7",
   "metadata": {},
   "outputs": [],
   "source": []
  }
 ],
 "metadata": {
  "kernelspec": {
   "display_name": "Python 3 (ipykernel)",
   "language": "python",
   "name": "python3"
  },
  "language_info": {
   "codemirror_mode": {
    "name": "ipython",
    "version": 3
   },
   "file_extension": ".py",
   "mimetype": "text/x-python",
   "name": "python",
   "nbconvert_exporter": "python",
   "pygments_lexer": "ipython3",
   "version": "3.9.13"
  }
 },
 "nbformat": 4,
 "nbformat_minor": 5
}
