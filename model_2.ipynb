{
 "cells": [
  {
   "cell_type": "markdown",
   "id": "8e08948c",
   "metadata": {},
   "source": [
    "# Financial Model"
   ]
  },
  {
   "cell_type": "code",
   "execution_count": 3,
   "id": "dc40b251",
   "metadata": {},
   "outputs": [],
   "source": [
    "import numpy_financial as npf\n",
    "import numpy as np"
   ]
  },
  {
   "cell_type": "markdown",
   "id": "00266147",
   "metadata": {},
   "source": [
    "---"
   ]
  },
  {
   "cell_type": "code",
   "execution_count": 4,
   "id": "870725f7",
   "metadata": {},
   "outputs": [],
   "source": [
    "pv = 0\n",
    "fv = np.nan\n",
    "interest_rate = [0.04, 0.05, 0.06]\n",
    "savings_rate = [0.1, 0.25, 0.40]"
   ]
  },
  {
   "cell_type": "markdown",
   "id": "15a8d005",
   "metadata": {},
   "source": [
    "### Next"
   ]
  }
 ],
 "metadata": {
  "kernelspec": {
   "display_name": "Python 3 (ipykernel)",
   "language": "python",
   "name": "python3"
  },
  "language_info": {
   "codemirror_mode": {
    "name": "ipython",
    "version": 3
   },
   "file_extension": ".py",
   "mimetype": "text/x-python",
   "name": "python",
   "nbconvert_exporter": "python",
   "pygments_lexer": "ipython3",
   "version": "3.11.3"
  }
 },
 "nbformat": 4,
 "nbformat_minor": 5
}
